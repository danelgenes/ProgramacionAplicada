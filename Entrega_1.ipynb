{
  "nbformat": 4,
  "nbformat_minor": 0,
  "metadata": {
    "colab": {
      "provenance": [],
      "authorship_tag": "ABX9TyOGAFJsw1GdFTrQLUI8b76i",
      "include_colab_link": true
    },
    "kernelspec": {
      "name": "python3",
      "display_name": "Python 3"
    },
    "language_info": {
      "name": "python"
    }
  },
  "cells": [
    {
      "cell_type": "markdown",
      "metadata": {
        "id": "view-in-github",
        "colab_type": "text"
      },
      "source": [
        "<a href=\"https://colab.research.google.com/github/danelgenes/ProgramacionAplicada/blob/main/Entrega_1.ipynb\" target=\"_parent\"><img src=\"https://colab.research.google.com/assets/colab-badge.svg\" alt=\"Open In Colab\"/></a>"
      ]
    },
    {
      "cell_type": "code",
      "execution_count": 3,
      "metadata": {
        "id": "mQ2263_JQihS",
        "colab": {
          "base_uri": "https://localhost:8080/"
        },
        "outputId": "69f584ad-d7d5-49ca-fac8-e8a4f5672bef"
      },
      "outputs": [
        {
          "output_type": "stream",
          "name": "stdout",
          "text": [
            "Bienvenido, digite 1 para visualizar informacion\n",
            "2\n",
            "2\n",
            "hasta pronto\n"
          ]
        }
      ],
      "source": [
        "\n",
        "opcion = int (input(\"Bienvenido, digite 1 para visualizar informacion\"));\n",
        "print (opcion);\n",
        "if opcion == 1:\n",
        " print(\"hola mundo\");\n",
        "else:\n",
        "  print (\"hasta pronto\");\n",
        "\n",
        "\n",
        "\n"
      ]
    },
    {
      "cell_type": "code",
      "source": [],
      "metadata": {
        "id": "6GhnoUNmIqlS"
      },
      "execution_count": null,
      "outputs": []
    },
    {
      "cell_type": "code",
      "source": [],
      "metadata": {
        "id": "1EEjTLPPFCHD"
      },
      "execution_count": null,
      "outputs": []
    },
    {
      "cell_type": "code",
      "source": [
        "print (\"Bienvenido, digite su nombre\");\n",
        "nombre = input();\n",
        "print(nombre,\",Hola mundo\")\n"
      ],
      "metadata": {
        "colab": {
          "base_uri": "https://localhost:8080/"
        },
        "id": "1291XZ6kQmJQ",
        "outputId": "45c68f0f-3966-4c26-e164-af847215fea5"
      },
      "execution_count": null,
      "outputs": [
        {
          "output_type": "stream",
          "name": "stdout",
          "text": [
            "Bienvenido, digite su nombre\n",
            "1\n",
            "1 ,Hola mundo\n"
          ]
        }
      ]
    },
    {
      "cell_type": "code",
      "source": [
        "print (\"Binvenido, por favor ingrese su altura en metros\");\n",
        "altura = input();\n",
        "def calcpeso(altura):\n",
        "  \n",
        "  peso =24*altura;\n",
        "print(\"su peso ideal es:\", peso);\n"
      ],
      "metadata": {
        "colab": {
          "base_uri": "https://localhost:8080/"
        },
        "id": "HakZB74-dr7U",
        "outputId": "2e0c5468-bffb-4681-f12a-e134cd5186f5"
      },
      "execution_count": null,
      "outputs": [
        {
          "output_type": "stream",
          "name": "stdout",
          "text": [
            "Binvenido, por favor ingrese su altura en metros\n",
            "1.60\n",
            "su peso ideal es: 1.601.601.601.601.601.601.601.601.601.601.601.601.601.601.601.601.601.601.601.601.601.601.601.60\n"
          ]
        }
      ]
    }
  ]
}