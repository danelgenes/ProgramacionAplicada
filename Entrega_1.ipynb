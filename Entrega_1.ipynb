{
  "cells": [
    {
      "cell_type": "markdown",
      "metadata": {
        "id": "view-in-github",
        "colab_type": "text"
      },
      "source": [
        "<a href=\"https://colab.research.google.com/github/danelgenes/ProgramacionAplicada/blob/main/Entrega_1.ipynb\" target=\"_parent\"><img src=\"https://colab.research.google.com/assets/colab-badge.svg\" alt=\"Open In Colab\"/></a>"
      ]
    },
    {
      "cell_type": "code",
      "execution_count": null,
      "metadata": {
        "colab": {
          "base_uri": "https://localhost:8080/"
        },
        "id": "mQ2263_JQihS",
        "outputId": "69f584ad-d7d5-49ca-fac8-e8a4f5672bef"
      },
      "outputs": [
        {
          "name": "stdout",
          "output_type": "stream",
          "text": [
            "Bienvenido, digite 1 para visualizar informacion\n",
            "2\n",
            "2\n",
            "hasta pronto\n"
          ]
        }
      ],
      "source": [
        "\n",
        "opcion = int (input(\"Bienvenido, digite 1 para visualizar informacion\"));\n",
        "print (opcion);\n",
        "if opcion == 1:\n",
        " print(\"hola mundo\");\n",
        "else:\n",
        "  print (\"hasta pronto\");\n",
        "\n",
        "\n",
        "\n"
      ]
    },
    {
      "cell_type": "code",
      "execution_count": null,
      "metadata": {
        "id": "1291XZ6kQmJQ"
      },
      "outputs": [],
      "source": [
        "print (\"Bienvenido, digite su nombre\");\n",
        "nombre = input();\n",
        "print(nombre,\",Hola mundo\")\n"
      ]
    },
    {
      "cell_type": "code",
      "execution_count": null,
      "metadata": {
        "colab": {
          "base_uri": "https://localhost:8080/"
        },
        "id": "HakZB74-dr7U",
        "outputId": "895a8e73-a146-4ad4-92ec-b5bba7908468"
      },
      "outputs": [
        {
          "name": "stdout",
          "output_type": "stream",
          "text": [
            "Ingrese su altura1.60\n",
            "su peso ideal es: 61.44\n"
          ]
        }
      ],
      "source": [
        "\n",
        "altura = float(input(\"Ingrese su altura\"));\n",
        "imc=24\n",
        "peso= altura**2*imc;\n",
        " \n",
        "print(\"su peso ideal es:\",round(peso,3));\n"
      ]
    },
    {
      "cell_type": "code",
      "execution_count": null,
      "metadata": {
        "colab": {
          "base_uri": "https://localhost:8080/"
        },
        "id": "jhzJk2FJCZAa",
        "outputId": "a72f4b06-48bd-4cf3-ea1f-cdaef8b1837c"
      },
      "outputs": [
        {
          "name": "stdout",
          "output_type": "stream",
          "text": [
            "la hora es = 17:50:26\n",
            "2\n",
            "hay clase\n"
          ]
        }
      ],
      "source": [
        "from datetime import datetime, timedelta\n",
        "from time import strftime\n",
        "\n",
        "hoy             = datetime.now()\n",
        "hoyMenos5horas = hoy - timedelta(hours=5)\n",
        "\n",
        "current_time = hoyMenos5horas.strftime(\"%H:%M:%S\")\n",
        "print(\"la hora es =\", current_time)\n",
        "print(hoyMenos5horas.isoweekday())\n",
        "\n",
        "dia=hoyMenos5horas.isoweekday()\n",
        "\n",
        "if (dia == 2 or dia==4):\n",
        "  print(\"hay clase\")\n",
        "else:\n",
        "  print(\"no hay clase\")"
      ]
    },
    {
      "cell_type": "code",
      "execution_count": 13,
      "metadata": {
        "colab": {
          "base_uri": "https://localhost:8080/"
        },
        "id": "_VpMQw5bDCxi",
        "outputId": "1fb2e839-6ebb-4bde-cc54-060d72198310"
      },
      "outputs": [
        {
          "output_type": "stream",
          "name": "stdout",
          "text": [
            "Ingrese la contraseña: 1364\n",
            "contraseña incorrecta\n",
            "Ingrese la contraseña: 231345616564\n",
            "contraseña incorrecta\n",
            "Ingrese la contraseña: test\n",
            "ingresó\n"
          ]
        }
      ],
      "source": [
        "contraseña =\"test\"\n",
        "\n",
        "while True:\n",
        "  entrada=input(\"Ingrese la contraseña: \")\n",
        "  if (contraseña==entrada):\n",
        "    print(\"ingresó\")\n",
        "    break\n",
        "  else:\n",
        "    print(\"contraseña incorrecta\")"
      ]
    }
  ],
  "metadata": {
    "colab": {
      "collapsed_sections": [],
      "provenance": [],
      "authorship_tag": "ABX9TyNEutgVPhCzQxzKgNABKK6W",
      "include_colab_link": true
    },
    "kernelspec": {
      "display_name": "Python 3",
      "name": "python3"
    },
    "language_info": {
      "name": "python"
    }
  },
  "nbformat": 4,
  "nbformat_minor": 0
}