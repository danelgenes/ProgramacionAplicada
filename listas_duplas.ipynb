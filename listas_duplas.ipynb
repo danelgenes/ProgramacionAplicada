{
  "nbformat": 4,
  "nbformat_minor": 0,
  "metadata": {
    "colab": {
      "provenance": [],
      "collapsed_sections": [],
      "authorship_tag": "ABX9TyMteaUHZYbdZuPjODui4xrK",
      "include_colab_link": true
    },
    "kernelspec": {
      "name": "python3",
      "display_name": "Python 3"
    },
    "language_info": {
      "name": "python"
    }
  },
  "cells": [
    {
      "cell_type": "markdown",
      "metadata": {
        "id": "view-in-github",
        "colab_type": "text"
      },
      "source": [
        "<a href=\"https://colab.research.google.com/github/danelgenes/ProgramacionAplicada/blob/main/listas_duplas.ipynb\" target=\"_parent\"><img src=\"https://colab.research.google.com/assets/colab-badge.svg\" alt=\"Open In Colab\"/></a>"
      ]
    },
    {
      "cell_type": "code",
      "execution_count": null,
      "metadata": {
        "colab": {
          "base_uri": "https://localhost:8080/"
        },
        "id": "7OPwGW6rY3Ko",
        "outputId": "d22a05f2-aa59-445f-a7f5-c313df96e0c9"
      },
      "outputs": [
        {
          "output_type": "stream",
          "name": "stdout",
          "text": [
            "Digite la cantidad de materias: 5\n",
            "Ingrese el nombre de la materia que esta cursando: a\n",
            "['a']\n",
            "Ingrese el nombre de la materia que esta cursando: b\n",
            "['a', 'b']\n",
            "Ingrese el nombre de la materia que esta cursando: c\n",
            "['a', 'b', 'c']\n",
            "Ingrese el nombre de la materia que esta cursando: d\n",
            "['a', 'b', 'c', 'd']\n",
            "Ingrese el nombre de la materia que esta cursando: e\n",
            "['a', 'b', 'c', 'd', 'e']\n"
          ]
        }
      ],
      "source": [
        "listadematerias=[]\n",
        "numeromaterias = int(input('Digite la cantidad de materias: '));\n",
        "for i in range(numeromaterias):\n",
        "  materia=input('Ingrese el nombre de la materia que esta cursando: ');\n",
        "  listadematerias.append(materia);\n",
        "  print(listadematerias);"
      ]
    },
    {
      "cell_type": "code",
      "source": [
        "listadematerias=[]\n",
        "numeromaterias = int(input('Digite la cantidad de materias: '))\n",
        "for i in range(numeromaterias):\n",
        "  materia=input('Ingrese el nombre de la materia que esta cursando: ');\n",
        "  listadematerias.append(materia);\n",
        "  print(listadematerias);\n",
        "\n",
        "notas =[]\n",
        "for i in range(len(listadematerias)):\n",
        "  while i<len(listadematerias):\n",
        "    notastring=input(\"Ingrese la nota que espera obtener de: \");\n",
        "    notastring= notastring.replace(',','.');\n",
        "    nota=float(notastring)\n",
        "\n",
        "    if nota>5 or nota <0:\n",
        "      print(\"Ingrese una nota valida\");\n",
        "    else:\n",
        "        notas.append(nota)\n",
        "        break\n",
        "  print(notas)  \n"
      ],
      "metadata": {
        "colab": {
          "base_uri": "https://localhost:8080/"
        },
        "id": "H_V2O0Ekgt4U",
        "outputId": "320b0d2c-a886-44e2-c47b-bef8b9fbc2b8"
      },
      "execution_count": null,
      "outputs": [
        {
          "output_type": "stream",
          "name": "stdout",
          "text": [
            "Digite la cantidad de materias: 3\n",
            "Ingrese el nombre de la materia que esta cursando: a\n",
            "['a']\n",
            "Ingrese el nombre de la materia que esta cursando: b\n",
            "['a', 'b']\n",
            "Ingrese el nombre de la materia que esta cursando: c\n",
            "['a', 'b', 'c']\n",
            "Ingrese la nota que espera obtener de: 1\n",
            "[1.0]\n",
            "Ingrese la nota que espera obtener de: 2\n",
            "[1.0, 2.0]\n",
            "Ingrese la nota que espera obtener de: 3\n",
            "[1.0, 2.0, 3.0]\n"
          ]
        }
      ]
    },
    {
      "cell_type": "code",
      "source": [
        "aprobadas=[];\n",
        "reprobadas=[];\n",
        "notas=[];\n",
        "listamaterias=[];\n",
        "nummaterias=int(input(\"Ingrese la cantidad de materias vistas \"));\n",
        "for i in range(nummaterias):\n",
        " materia=str(input(\"ingrese el nombre de la metaria \"))\n",
        " listamaterias.append(materia)\n",
        "print(listamaterias); \n",
        "\n",
        "for i in range(len(listamaterias)):\n",
        " notas=float(input(\"Ingrese la nota obtenida \"));\n",
        " if notas<3:\n",
        "   reprobadas.append(listamaterias[i]);\n",
        " else:\n",
        "   aprobadas.append(listamaterias[i]);\n",
        "\n",
        "print(\"materias aprobadas \",aprobadas);\n",
        "print(\"materias reprobadas \",reprobadas);\n"
      ],
      "metadata": {
        "colab": {
          "base_uri": "https://localhost:8080/"
        },
        "id": "krd6_wgZ_PNp",
        "outputId": "c3c350f5-683d-4ab7-9f52-ac7c87873bb1"
      },
      "execution_count": 33,
      "outputs": [
        {
          "output_type": "stream",
          "name": "stdout",
          "text": [
            "Ingrese la cantidad de materias vistas 3\n",
            "ingrese el nombre de la metaria a\n",
            "ingrese el nombre de la metaria b\n",
            "ingrese el nombre de la metaria c\n",
            "['a', 'b', 'c']\n",
            "Ingrese la nota obtenida 1\n",
            "Ingrese la nota obtenida 4\n",
            "Ingrese la nota obtenida 5\n",
            "materias aprobadas  ['b', 'c']\n",
            "materias reprobadas  ['a']\n"
          ]
        }
      ]
    },
    {
      "cell_type": "code",
      "source": [
        "listastr = 'a,b,c'\n",
        "lista=listastr.split(',');\n",
        "lista=[str(element)for element in lista]\n",
        "print(lista)"
      ],
      "metadata": {
        "colab": {
          "base_uri": "https://localhost:8080/"
        },
        "id": "HB3fJa1JIe7H",
        "outputId": "0e199149-230b-4f36-cc21-93e65a57c2fc"
      },
      "execution_count": 40,
      "outputs": [
        {
          "output_type": "stream",
          "name": "stdout",
          "text": [
            "['a', 'b', 'c']\n"
          ]
        }
      ]
    },
    {
      "cell_type": "code",
      "source": [
        "palabra=\"Anita lava la tina\"\n",
        "palabra=palabra.lower()\n",
        "palabra=palabra.replace(' ','')\n",
        "palabralist=list(palabra)\n",
        "palabralist2=palabralist.copy()\n",
        "palabralist2.reverse()\n",
        "print(palabralist2)\n",
        "print(palabralist)\n",
        "\n",
        "if palabralist == palabralist2:\n",
        "  print(\"es palindromo\")\n",
        "else:\n",
        "  print(\"no es palindromo\")"
      ],
      "metadata": {
        "id": "wID9f0NDJ3Y4"
      },
      "execution_count": null,
      "outputs": []
    }
  ]
}