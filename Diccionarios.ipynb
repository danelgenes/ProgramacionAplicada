{
  "nbformat": 4,
  "nbformat_minor": 0,
  "metadata": {
    "colab": {
      "provenance": [],
      "collapsed_sections": [],
      "authorship_tag": "ABX9TyPaZhm/j4jj/Av45bkQinHC",
      "include_colab_link": true
    },
    "kernelspec": {
      "name": "python3",
      "display_name": "Python 3"
    },
    "language_info": {
      "name": "python"
    }
  },
  "cells": [
    {
      "cell_type": "markdown",
      "metadata": {
        "id": "view-in-github",
        "colab_type": "text"
      },
      "source": [
        "<a href=\"https://colab.research.google.com/github/danelgenes/ProgramacionAplicada/blob/main/Diccionarios.ipynb\" target=\"_parent\"><img src=\"https://colab.research.google.com/assets/colab-badge.svg\" alt=\"Open In Colab\"/></a>"
      ]
    },
    {
      "cell_type": "code",
      "execution_count": null,
      "metadata": {
        "colab": {
          "base_uri": "https://localhost:8080/"
        },
        "id": "riIVtZ5QDYE1",
        "outputId": "90220448-1693-4a3a-b085-ce8672d58510"
      },
      "outputs": [
        {
          "output_type": "stream",
          "name": "stdout",
          "text": [
            "ultimo eliminado ['Programación Aplicada', 'Const y Arq de software']\n"
          ]
        }
      ],
      "source": [
        "a = {\"nombre\":'Carlos', 'clases':['Programación Aplicada', 'Const y Arq de software'] , 'email':'csalazarsa01@uninpahu.edu.co'}\n",
        "print('ultimo eliminado',a.pop('clases'))"
      ]
    },
    {
      "cell_type": "code",
      "source": [
        "a = {'Euro':'€', 'Dollar':'$', 'Yen':'¥'};\n",
        "var= (input(\"Digite la divisa que desea usar \"));\n",
        "if var in a:\n",
        "  print(a[var]);\n",
        "else:\n",
        "  print(\"divisa no encontrada\")\n",
        "  \n"
      ],
      "metadata": {
        "colab": {
          "base_uri": "https://localhost:8080/"
        },
        "id": "RlshLQb3FduT",
        "outputId": "72a455c3-378f-4b7c-be02-ff6a8eea2ca3"
      },
      "execution_count": null,
      "outputs": [
        {
          "output_type": "stream",
          "name": "stdout",
          "text": [
            "Digite la divisa que desea usar Euro\n",
            "€\n"
          ]
        }
      ]
    },
    {
      "cell_type": "code",
      "source": [
        "a={};\n",
        "i=0\n",
        "while i < 4:\n",
        "  x=input(\"digite el dato que desea añadir \");\n",
        "  y=input(\"digite el valor del dato \");\n",
        "  a[x]=y;\n",
        "  i+=1;\n",
        "print(\"sus datos son: \",a);\n",
        "\n"
      ],
      "metadata": {
        "colab": {
          "base_uri": "https://localhost:8080/"
        },
        "id": "ZNBIGv1YcPXl",
        "outputId": "03fa5941-3e39-4453-8459-1a984115830d"
      },
      "execution_count": null,
      "outputs": [
        {
          "output_type": "stream",
          "name": "stdout",
          "text": [
            "digite el dato que desea añadir a\n",
            "digite el valor del dato 1\n",
            "digite el dato que desea añadir b\n",
            "digite el valor del dato 2\n",
            "digite el dato que desea añadir c\n",
            "digite el valor del dato 3\n",
            "digite el dato que desea añadir d\n",
            "digite el valor del dato 4\n",
            "{'a': '1', 'b': '2', 'c': '3', 'd': '4'}\n"
          ]
        }
      ]
    },
    {
      "cell_type": "code",
      "source": [
        "a = {\"Platano\":1.35, \"Manzana\":0.80, \"Pera\":0.85, \"Naranja\":0.70};\n",
        "fruta = input(\"ingrese la fruta que desea comprar \");\n",
        "\n",
        "if fruta in a:\n",
        "  print(a[fruta]);\n",
        "  cantidad=float(input(\"cuantos kilos de fruta va a llevar \"));\n",
        "  precio = cantidad*a[fruta];\n",
        "  print(\"El precio de \",fruta,\"es: \",precio);\n",
        "else:\n",
        "  print(\"no hay esa fruta\");"
      ],
      "metadata": {
        "colab": {
          "base_uri": "https://localhost:8080/"
        },
        "id": "aIkhPdlGjpMH",
        "outputId": "874745c4-28d0-47f4-a260-db9376c33b7a"
      },
      "execution_count": null,
      "outputs": [
        {
          "output_type": "stream",
          "name": "stdout",
          "text": [
            "ingrese la fruta que desea comprar Platano\n",
            "1.35\n",
            "cuantos kilos de fruta va a llevar 2\n",
            "El precio de  Platano es:  2.7\n"
          ]
        }
      ]
    },
    {
      "cell_type": "code",
      "source": [
        "cesta={};\n",
        "continuar=1;\n",
        "while continuar == 1:\n",
        "  fruta = input(\"ingrese el nombre del articulo \");\n",
        "  precio = input(\"ingrese el precio del articulo \");\n",
        "  cesta[fruta]= precio;\n",
        "  continuar=int(input(\"si desea continuar presione 1 \"));\n",
        "print(cesta);"
      ],
      "metadata": {
        "colab": {
          "base_uri": "https://localhost:8080/"
        },
        "id": "53UwD8yBniuO",
        "outputId": "60299f49-fa49-4f3b-ffc8-55d35792b537"
      },
      "execution_count": null,
      "outputs": [
        {
          "output_type": "stream",
          "name": "stdout",
          "text": [
            "ingrese el nombre del articulo melon\n",
            "ingrese el precio del articulo 10\n",
            "si desea continuar presione 1 1\n",
            "ingrese el nombre del articulo uva\n",
            "ingrese el precio del articulo 20\n",
            "si desea continuar presione 1 0\n",
            "{'melon': '10', 'uva': '20'}\n"
          ]
        }
      ]
    },
    {
      "cell_type": "code",
      "source": [
        "clientes= {};\n",
        "opcion=\"\";\n",
        "cliente={};\n",
        "print(\"1. Agregar usuario\");\n",
        "print(\"2. Eliminar usuario\");\n",
        "print(\"3. Mostrar usuario\");\n",
        "print(\"4. Mostrar usuarios\");\n",
        "print(\"5. Mostrar usuarios preferntes\");\n",
        "print(\"6. Salir\");\n",
        "\n",
        "while opcion!=6:\n",
        "  opcion=int(input(\"Que desea realizar \"));\n",
        "  if opcion==1:\n",
        "    clientes[\"Nif\"]=input(\"Digite el Nif del cliente \");\n",
        "    clientes[\"nombre\"]=input(\"ingrese el nombre del cliente\");\n",
        "    clientes[\"direccion\"]=input(\"ingrese la dirección del cliente\");\n",
        "    clientes[\"telefono\"]=input(\"ingrese el telefono del cliente\");\n",
        "    val=input(\"escriba 'S' si el usuario es preferente\");\n",
        "    if val.lower()=='S':\n",
        "      clientes[\"preferente\"]=True;\n",
        "    else:\n",
        "       clientes[\"preferente\"]=False;\n",
        "      \n",
        "    cliente[\"cedula\"]=clientes;\n",
        "  if opcion==2:\n",
        "    nif=input(\"Digite NIF del cliente\");\n",
        "    if nif in cliente:\n",
        "      del clientes[nif];\n",
        "      print(\"cliente eliminado\");\n",
        "    else:\n",
        "      print(\"No encontrado\");\n",
        "  if opcion==3:\n",
        "    nif=input(\"introduzca nif del cliente\");\n",
        "    if nif in cliente:\n",
        "      for clave, valor in cliente[nif].item():\n",
        "        print(clave.title() + ':', valor);    \n",
        "    else:\n",
        "      print(\"no existe el usuario con NIF\", nif);\n",
        "  if opcion==4:\n",
        "    print(\"los clientes son\");\n",
        "    for clave, valor in cliente.items():\n",
        "      print(clave, valor);\n",
        "  if opcion ==5:\n",
        "    print(\"los clientes preferentes\");        \n",
        "    for clave, valor in cliente.items():\n",
        "      if valor[\"preferente\"]==True:\n",
        "        print(clave, valor);\n",
        "print(\"hasta pronto\");\n",
        "\n",
        "  \n",
        "         \n"
      ],
      "metadata": {
        "id": "4ODsgYu7rk1H",
        "colab": {
          "base_uri": "https://localhost:8080/"
        },
        "outputId": "32fed3c9-3380-4768-a303-35837a1f04f9"
      },
      "execution_count": 11,
      "outputs": [
        {
          "output_type": "stream",
          "name": "stdout",
          "text": [
            "1. Agregar usuario\n",
            "2. Eliminar usuario\n",
            "3. Mostrar usuario\n",
            "4. Mostrar usuarios\n",
            "5. Mostrar usuarios preferntes\n",
            "6. Salir\n",
            "Que desea realizar 1\n",
            "Digite el Nif del cliente 123\n",
            "ingrese el nombre del clientedsaf\n",
            "ingrese la dirección del clientefdsa\n",
            "ingrese el telefono del clientefdsa\n",
            "escriba 'S' si el usuario es preferentes\n",
            "Que desea realizar 2\n",
            "Digite NIF del cliente123\n",
            "Que desea realizar 6\n",
            "{'cedula': {'Nif': '123', 'nombre': 'dsaf', 'direccion': 'fdsa', 'telefono': 'fdsa', 'preferente': False}}\n"
          ]
        }
      ]
    }
  ]
}